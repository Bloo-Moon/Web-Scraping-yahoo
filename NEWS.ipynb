{
 "cells": [
  {
   "cell_type": "code",
   "execution_count": 1,
   "id": "56d7427f-e5e3-4da8-b0af-e98256a47e57",
   "metadata": {},
   "outputs": [],
   "source": [
    "#Import the libraries\n",
    "from urllib.request import urlopen, Request\n",
    "from bs4 import BeautifulSoup\n",
    "import os \n",
    "import pandas as pd\n",
    "import matplotlib.pyplot as plt\n",
    "%matplotlib inline \n",
    "#NLTK VADER for sentiment analysis\n",
    "from nltk.sentiment.vader import SentimentIntensityAnalyzer\n",
    "\n",
    "finwiz_url = 'https://finviz.com/quote.ashx?t='"
   ]
  },
  {
   "cell_type": "markdown",
   "id": "9422d707-0b92-4e25-9022-85bcde27d149",
   "metadata": {},
   "source": [
    "## 2. Store the Date, Time and News Headlines Data\n",
    "\n",
    "The website is FinViz. Notice from the above code that all the news is stored into a table with **id=“news-table”**. I have included two rows of data from the table, bounded by `<tr> </tr>` tags. The code for one of the rows is boxed up. Note the date and **time data** between the first `<td></td>` tags in the box, and the news **headline text** in the `<a></a>` tags. We are going to extract the date, time and news headline for each row and perform sentiment analysis on the news headline.\n",
    "The code below shows **stores the entire ‘news-table’** from the FinViz website into a Python dictionary, news_tables, for theses stocks — Amazon (AMZN), Tesla (TSLA) and Google(GOOG) (or rather Alphabet, the company that owns Google). You can include as many tickers as you want in the tickers list"
   ]
  },
  {
   "cell_type": "code",
   "execution_count": 9,
   "id": "49fe0b6e-48f0-4d16-8414-1a3d81e4fae3",
   "metadata": {},
   "outputs": [],
   "source": [
    "news_tables = {}\n",
    "tickers = ['NOW', 'WISH', 'FFIV', 'SHW']\n",
    "\n",
    "for ticker in tickers:\n",
    "    url = finwiz_url + ticker\n",
    "    req = Request(url=url,headers={'user-agent': 'my-app/0.0.1'})\n",
    "    response = urlopen(req)\n",
    "    #read the contents of the file into 'html'\n",
    "    html = BeautifulSoup(response)\n",
    "    # Find 'news-table' in the Soup and load it into 'news_table'\n",
    "    news_table = html.find(id='news-table')\n",
    "    #add the table to our dictionary\n",
    "    news_tables[ticker] = news_table"
   ]
  },
  {
   "cell_type": "markdown",
   "id": "d9974f90-651f-42d2-b9ff-0001119a1943",
   "metadata": {},
   "source": [
    "## 3. Print the Data Stored in news_tables \n",
    "To get a sense of what is stored in the news_tables dictionary for ‘AMZN’. Feel free to run the code below, which iterates through each `<tr></tr>` tags (for the first 4 rows) to obtain the headlines between the `<a></a>` tags and the date and time between the `<td></td>` tags before printing them out. This step is optional and is for your own learning."
   ]
  },
  {
   "cell_type": "code",
   "execution_count": 10,
   "id": "0dfaae3a-fcb0-47ed-9c16-18c93fd2b04c",
   "metadata": {},
   "outputs": [],
   "source": [
    "# # Read one single day of headlines for 'AMZN'\n",
    "\n",
    "# amzn = news_tables['AMZN']\n",
    "# # Get all the table rows tagged in HTML with <tr> into amzn_tr\n",
    "# amzn_tr = amzn.findAll('tr')\n",
    "\n",
    "# for i, table_row in enumerate(amzn_tr):\n",
    "#     #read the text of the element 'a' into 'link_text'\n",
    "#     a_text = table_row.a.text\n",
    "#     #read the text of the element 'td' into the 'data_text' \n",
    "#     td_text = table_row.td.text\n",
    "#     #print the contents of 'link_text' and 'data_text' \n",
    "#     print(a_text)\n",
    "#     print(td_text)\n",
    "#     #Exit after printing 4 rows of data \n",
    "#     if i==3:\n",
    "#         break\n",
    "        "
   ]
  },
  {
   "cell_type": "markdown",
   "id": "f1318b1c-bc81-41a8-b524-acdf7cae1cdd",
   "metadata": {},
   "source": [
    "## 4. Parse the Date, Time and News Headlines into a Python List\n",
    "The following code is similar to the one above, but this time it **parses the date, time and headlines into a Python list** called *parsed_news* instead of printing it out. The if, else loop is necessary because if you look at the news headlines above, only the first news of each day has the ‘date’ label, the rest of the news only has the ‘time’ label so we have to account for this."
   ]
  },
  {
   "cell_type": "code",
   "execution_count": 11,
   "id": "14974d67-055b-4ca2-97a3-c44b7fff45a6",
   "metadata": {},
   "outputs": [
    {
     "data": {
      "text/html": [
       "<div>\n",
       "<style scoped>\n",
       "    .dataframe tbody tr th:only-of-type {\n",
       "        vertical-align: middle;\n",
       "    }\n",
       "\n",
       "    .dataframe tbody tr th {\n",
       "        vertical-align: top;\n",
       "    }\n",
       "\n",
       "    .dataframe thead th {\n",
       "        text-align: right;\n",
       "    }\n",
       "</style>\n",
       "<table border=\"1\" class=\"dataframe\">\n",
       "  <thead>\n",
       "    <tr style=\"text-align: right;\">\n",
       "      <th></th>\n",
       "      <th>ticker</th>\n",
       "      <th>date</th>\n",
       "      <th>time</th>\n",
       "      <th>headline</th>\n",
       "    </tr>\n",
       "  </thead>\n",
       "  <tbody>\n",
       "    <tr>\n",
       "      <th>0</th>\n",
       "      <td>NOW</td>\n",
       "      <td>Jun-10-21</td>\n",
       "      <td>06:19AM</td>\n",
       "      <td>ServiceNow Rises After Being Added to Goldman'...</td>\n",
       "    </tr>\n",
       "    <tr>\n",
       "      <th>1</th>\n",
       "      <td>NOW</td>\n",
       "      <td>Jun-09-21</td>\n",
       "      <td>11:00AM</td>\n",
       "      <td>2 Monstrous Software Stocks That Are on Sale</td>\n",
       "    </tr>\n",
       "    <tr>\n",
       "      <th>2</th>\n",
       "      <td>NOW</td>\n",
       "      <td>Jun-03-21</td>\n",
       "      <td>08:17AM</td>\n",
       "      <td>5 Stocks to Watch as Cyberattacks Keep Disrupt...</td>\n",
       "    </tr>\n",
       "    <tr>\n",
       "      <th>3</th>\n",
       "      <td>NOW</td>\n",
       "      <td>May-28-21</td>\n",
       "      <td>11:31AM</td>\n",
       "      <td>Why Is ServiceNow (NOW) Down 5.1% Since Last E...</td>\n",
       "    </tr>\n",
       "    <tr>\n",
       "      <th>4</th>\n",
       "      <td>NOW</td>\n",
       "      <td>May-27-21</td>\n",
       "      <td>06:57AM</td>\n",
       "      <td>Do Institutions Own ServiceNow, Inc. (NYSE:NOW...</td>\n",
       "    </tr>\n",
       "  </tbody>\n",
       "</table>\n",
       "</div>"
      ],
      "text/plain": [
       "  ticker       date     time  \\\n",
       "0    NOW  Jun-10-21  06:19AM   \n",
       "1    NOW  Jun-09-21  11:00AM   \n",
       "2    NOW  Jun-03-21  08:17AM   \n",
       "3    NOW  May-28-21  11:31AM   \n",
       "4    NOW  May-27-21  06:57AM   \n",
       "\n",
       "                                            headline  \n",
       "0  ServiceNow Rises After Being Added to Goldman'...  \n",
       "1       2 Monstrous Software Stocks That Are on Sale  \n",
       "2  5 Stocks to Watch as Cyberattacks Keep Disrupt...  \n",
       "3  Why Is ServiceNow (NOW) Down 5.1% Since Last E...  \n",
       "4  Do Institutions Own ServiceNow, Inc. (NYSE:NOW...  "
      ]
     },
     "execution_count": 11,
     "metadata": {},
     "output_type": "execute_result"
    }
   ],
   "source": [
    "parsed_news = []\n",
    "# Iterate through the news \n",
    "for file_name, news_table in news_tables.items():\n",
    "    #iterate through all tr tags in 'news_table'\n",
    "    for x in news_table.findAll('tr'):\n",
    "        #read the text from each tr tag into text \n",
    "        #get text from a only\n",
    "        text = x.a.get_text()\n",
    "        # split text in the td tag into a list \n",
    "        date_scrape = x.td.text.split()\n",
    "        # if the length of 'date_scrape' is 1, load 'time' as the only element\n",
    "        \n",
    "        if len(date_scrape) == 1:\n",
    "            time = date_scrape[0]\n",
    "             \n",
    "        #else load 'date' as the 1st element and 'time' as the second\n",
    "        else:\n",
    "            date = date_scrape[0]\n",
    "            time = date_scrape[1]\n",
    "            \n",
    "        # Extract the ticker from the file name, get the string up to the 1st '_'\n",
    "        ticker = file_name.split('_')[0]\n",
    "        \n",
    "        #append ticker, date, time and headline as a list to the parsed news list \n",
    "        parsed_news.append([ticker, date, time, text])\n",
    "\n",
    "columns = ['ticker', 'date', 'time', 'headline']  \n",
    "parsed_news = pd.DataFrame(parsed_news, columns=columns)\n",
    "parsed_news.head()            "
   ]
  },
  {
   "cell_type": "markdown",
   "id": "7cb02d89-4e45-447a-ada9-acf84a7d2da9",
   "metadata": {},
   "source": [
    "## 5. Sentiment Analysis with Vader!\n",
    "It is now time to perform sentiment analysis with _nltk.sentiment.vader_, finally! We store the ticker, date, time, headlines in a Pandas DataFrame, **perform sentiment analysis on the headlines** before adding an additional column in the DataFrame to store the sentiment scores for each headline."
   ]
  },
  {
   "cell_type": "code",
   "execution_count": 12,
   "id": "ca4a7585-8d94-45d9-9c37-7d052fe0f7a0",
   "metadata": {},
   "outputs": [
    {
     "name": "stderr",
     "output_type": "stream",
     "text": [
      "[nltk_data] Downloading package vader_lexicon to C:\\Users\\Tatenda\n",
      "[nltk_data]     Bwerinofa\\AppData\\Roaming\\nltk_data...\n",
      "[nltk_data]   Package vader_lexicon is already up-to-date!\n"
     ]
    },
    {
     "data": {
      "text/plain": [
       "True"
      ]
     },
     "execution_count": 12,
     "metadata": {},
     "output_type": "execute_result"
    }
   ],
   "source": [
    "import nltk\n",
    "nltk.download('vader_lexicon')"
   ]
  },
  {
   "cell_type": "code",
   "execution_count": 13,
   "id": "ded3e826-9bae-403e-9b6d-dd65b0d7b9ff",
   "metadata": {},
   "outputs": [
    {
     "data": {
      "text/html": [
       "<div>\n",
       "<style scoped>\n",
       "    .dataframe tbody tr th:only-of-type {\n",
       "        vertical-align: middle;\n",
       "    }\n",
       "\n",
       "    .dataframe tbody tr th {\n",
       "        vertical-align: top;\n",
       "    }\n",
       "\n",
       "    .dataframe thead th {\n",
       "        text-align: right;\n",
       "    }\n",
       "</style>\n",
       "<table border=\"1\" class=\"dataframe\">\n",
       "  <thead>\n",
       "    <tr style=\"text-align: right;\">\n",
       "      <th></th>\n",
       "      <th>ticker</th>\n",
       "      <th>date</th>\n",
       "      <th>time</th>\n",
       "      <th>headline</th>\n",
       "      <th>neg</th>\n",
       "      <th>neu</th>\n",
       "      <th>pos</th>\n",
       "      <th>compound</th>\n",
       "    </tr>\n",
       "  </thead>\n",
       "  <tbody>\n",
       "    <tr>\n",
       "      <th>0</th>\n",
       "      <td>NOW</td>\n",
       "      <td>2021-06-10</td>\n",
       "      <td>06:19AM</td>\n",
       "      <td>ServiceNow Rises After Being Added to Goldman'...</td>\n",
       "      <td>0.0</td>\n",
       "      <td>1.000</td>\n",
       "      <td>0.000</td>\n",
       "      <td>0.000</td>\n",
       "    </tr>\n",
       "    <tr>\n",
       "      <th>1</th>\n",
       "      <td>NOW</td>\n",
       "      <td>2021-06-09</td>\n",
       "      <td>11:00AM</td>\n",
       "      <td>2 Monstrous Software Stocks That Are on Sale</td>\n",
       "      <td>0.0</td>\n",
       "      <td>1.000</td>\n",
       "      <td>0.000</td>\n",
       "      <td>0.000</td>\n",
       "    </tr>\n",
       "    <tr>\n",
       "      <th>2</th>\n",
       "      <td>NOW</td>\n",
       "      <td>2021-06-03</td>\n",
       "      <td>08:17AM</td>\n",
       "      <td>5 Stocks to Watch as Cyberattacks Keep Disrupt...</td>\n",
       "      <td>0.0</td>\n",
       "      <td>1.000</td>\n",
       "      <td>0.000</td>\n",
       "      <td>0.000</td>\n",
       "    </tr>\n",
       "    <tr>\n",
       "      <th>3</th>\n",
       "      <td>NOW</td>\n",
       "      <td>2021-05-28</td>\n",
       "      <td>11:31AM</td>\n",
       "      <td>Why Is ServiceNow (NOW) Down 5.1% Since Last E...</td>\n",
       "      <td>0.0</td>\n",
       "      <td>1.000</td>\n",
       "      <td>0.000</td>\n",
       "      <td>0.000</td>\n",
       "    </tr>\n",
       "    <tr>\n",
       "      <th>4</th>\n",
       "      <td>NOW</td>\n",
       "      <td>2021-05-27</td>\n",
       "      <td>06:57AM</td>\n",
       "      <td>Do Institutions Own ServiceNow, Inc. (NYSE:NOW...</td>\n",
       "      <td>0.0</td>\n",
       "      <td>0.732</td>\n",
       "      <td>0.268</td>\n",
       "      <td>0.296</td>\n",
       "    </tr>\n",
       "  </tbody>\n",
       "</table>\n",
       "</div>"
      ],
      "text/plain": [
       "  ticker        date     time  \\\n",
       "0    NOW  2021-06-10  06:19AM   \n",
       "1    NOW  2021-06-09  11:00AM   \n",
       "2    NOW  2021-06-03  08:17AM   \n",
       "3    NOW  2021-05-28  11:31AM   \n",
       "4    NOW  2021-05-27  06:57AM   \n",
       "\n",
       "                                            headline  neg    neu    pos  \\\n",
       "0  ServiceNow Rises After Being Added to Goldman'...  0.0  1.000  0.000   \n",
       "1       2 Monstrous Software Stocks That Are on Sale  0.0  1.000  0.000   \n",
       "2  5 Stocks to Watch as Cyberattacks Keep Disrupt...  0.0  1.000  0.000   \n",
       "3  Why Is ServiceNow (NOW) Down 5.1% Since Last E...  0.0  1.000  0.000   \n",
       "4  Do Institutions Own ServiceNow, Inc. (NYSE:NOW...  0.0  0.732  0.268   \n",
       "\n",
       "   compound  \n",
       "0     0.000  \n",
       "1     0.000  \n",
       "2     0.000  \n",
       "3     0.000  \n",
       "4     0.296  "
      ]
     },
     "execution_count": 13,
     "metadata": {},
     "output_type": "execute_result"
    }
   ],
   "source": [
    "# Instantiate the sentiment intensity analyzer\n",
    "vader = SentimentIntensityAnalyzer()\n",
    "\n",
    "# Set column names \n",
    "columns = ['ticker', 'date', 'time', 'headline']\n",
    "\n",
    "# convert the parsed_news list into a DataFrame called 'parsed_and_scored_news'\n",
    "parsed_and_scored_news = pd.DataFrame(parsed_news, columns=columns)\n",
    "\n",
    "#Iterate through the headlines and get the polarity scores using vader \n",
    "scores = parsed_and_scored_news['headline'].apply(vader.polarity_scores).to_list()\n",
    "\n",
    "#Convert the 'scores' list of dicts into a DataFrame\n",
    "scores_df = pd.DataFrame(scores)\n",
    "\n",
    "# Join the DataFrames of the news and the list of dicts\n",
    "parsed_and_scored_news = parsed_and_scored_news.join(scores_df, rsuffix='_right')\n",
    "\n",
    "#convert the date column from string to datetime\n",
    "parsed_and_scored_news['date'] = pd.to_datetime(parsed_and_scored_news.date).dt.date\n",
    "\n",
    "parsed_and_scored_news.head()"
   ]
  },
  {
   "cell_type": "markdown",
   "id": "3d30efdb-eb59-46ba-aa77-b1284cdbd3a3",
   "metadata": {},
   "source": [
    "## 6. Plot a Bar Chart of the Sentiment Score for Each Day\n",
    "The following code takes the **average of the sentiment scores** for all news headlines collected during **each date** and **plots it on a bar chart**. You can average the scores for each week too, to obtain the overall sentiment for a week."
   ]
  },
  {
   "cell_type": "code",
   "execution_count": 14,
   "id": "4188aaa7-de83-4dd9-bde1-70c8f6e85ae6",
   "metadata": {},
   "outputs": [
    {
     "data": {
      "image/png": "[encoded data removed]",
      "text/plain": [
       "<Figure size 720x432 with 1 Axes>"
      ]
     },
     "metadata": {
      "needs_background": "light"
     },
     "output_type": "display_data"
    }
   ],
   "source": [
    "plt.rcParams['figure.figsize'] = [10,6]\n",
    "\n",
    "#group by date and ticker columns from scored_news and calculate the mean\n",
    "mean_scores = parsed_and_scored_news.groupby(['ticker', 'date']).mean()\n",
    "\n",
    "# unstack the column ticker \n",
    "mean_scores = mean_scores.unstack()\n",
    "\n",
    "# get the cross-section of compound in the 'columns' axis\n",
    "mean_scores = mean_scores.xs('compound', axis='columns').transpose()\n",
    "\n",
    "#plot a bar chart with pandas \n",
    "mean_scores.plot(kind = 'bar')\n",
    "plt.grid()"
   ]
  }
 ],
 "metadata": {
  "kernelspec": {
   "display_name": "Python 3",
   "language": "python",
   "name": "python3"
  },
  "language_info": {
   "codemirror_mode": {
    "name": "ipython",
    "version": 3
   },
   "file_extension": ".py",
   "mimetype": "text/x-python",
   "name": "python",
   "nbconvert_exporter": "python",
   "pygments_lexer": "ipython3",
   "version": "3.7.8"
  }
 },
 "nbformat": 4,
 "nbformat_minor": 5
}
